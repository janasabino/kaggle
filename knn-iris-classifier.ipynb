{
 "cells": [
  {
   "cell_type": "markdown",
   "id": "7c73b1d7",
   "metadata": {
    "papermill": {
     "duration": 0.008447,
     "end_time": "2022-09-04T16:39:09.001652",
     "exception": false,
     "start_time": "2022-09-04T16:39:08.993205",
     "status": "completed"
    },
    "tags": []
   },
   "source": [
    "**This code is part of the tutorial contained in the [Introduction to Machine Learning with Python](https://www.oreilly.com/library/view/introduction-to-machine/9781449369880/) book. Here the code from the book, plus something I could add. It's just for my Machine Learning training :)**"
   ]
  },
  {
   "cell_type": "code",
   "execution_count": 1,
   "id": "cbf6e7de",
   "metadata": {
    "_cell_guid": "b1076dfc-b9ad-4769-8c92-a6c4dae69d19",
    "_uuid": "8f2839f25d086af736a60e9eeb907d3b93b6e0e5",
    "execution": {
     "iopub.execute_input": "2022-09-04T16:39:09.018270Z",
     "iopub.status.busy": "2022-09-04T16:39:09.017805Z",
     "iopub.status.idle": "2022-09-04T16:39:10.659367Z",
     "shell.execute_reply": "2022-09-04T16:39:10.658200Z"
    },
    "papermill": {
     "duration": 1.653464,
     "end_time": "2022-09-04T16:39:10.662520",
     "exception": false,
     "start_time": "2022-09-04T16:39:09.009056",
     "status": "completed"
    },
    "tags": []
   },
   "outputs": [],
   "source": [
    "import pandas as pd\n",
    "\n",
    "#dataset\n",
    "from sklearn.datasets import load_iris\n",
    "\n",
    "#visualization\n",
    "import seaborn as sns\n",
    "\n",
    "#model training\n",
    "from sklearn.model_selection import train_test_split\n",
    "from sklearn.neighbors import KNeighborsClassifier"
   ]
  },
  {
   "cell_type": "code",
   "execution_count": 2,
   "id": "5bfc7594",
   "metadata": {
    "execution": {
     "iopub.execute_input": "2022-09-04T16:39:10.679325Z",
     "iopub.status.busy": "2022-09-04T16:39:10.678892Z",
     "iopub.status.idle": "2022-09-04T16:39:10.690819Z",
     "shell.execute_reply": "2022-09-04T16:39:10.689617Z"
    },
    "papermill": {
     "duration": 0.023986,
     "end_time": "2022-09-04T16:39:10.693905",
     "exception": false,
     "start_time": "2022-09-04T16:39:10.669919",
     "status": "completed"
    },
    "tags": []
   },
   "outputs": [],
   "source": [
    "#loading data (which is a Bunch object - very similar to a dictionary)\n",
    "dataset = load_iris()"
   ]
  },
  {
   "cell_type": "code",
   "execution_count": 3,
   "id": "088bc75e",
   "metadata": {
    "execution": {
     "iopub.execute_input": "2022-09-04T16:39:10.711135Z",
     "iopub.status.busy": "2022-09-04T16:39:10.710224Z",
     "iopub.status.idle": "2022-09-04T16:39:10.716420Z",
     "shell.execute_reply": "2022-09-04T16:39:10.715128Z"
    },
    "papermill": {
     "duration": 0.01792,
     "end_time": "2022-09-04T16:39:10.719298",
     "exception": false,
     "start_time": "2022-09-04T16:39:10.701378",
     "status": "completed"
    },
    "tags": []
   },
   "outputs": [
    {
     "name": "stdout",
     "output_type": "stream",
     "text": [
      "Keys of Iris Dataset: dict_keys(['data', 'target', 'frame', 'target_names', 'DESCR', 'feature_names', 'filename', 'data_module'])\n"
     ]
    }
   ],
   "source": [
    "#informations about this iris dataset \n",
    "print(\"Keys of Iris Dataset: {}\".format(dataset.keys()))"
   ]
  },
  {
   "cell_type": "markdown",
   "id": "44d0597e",
   "metadata": {
    "papermill": {
     "duration": 0.007031,
     "end_time": "2022-09-04T16:39:10.734105",
     "exception": false,
     "start_time": "2022-09-04T16:39:10.727074",
     "status": "completed"
    },
    "tags": []
   },
   "source": [
    "* **DESCR:** short description of the data\n",
    "* **target_names:** array of strings containing the flower species we want to predict\n",
    "* **feature_names:** list of strings that provides a description of each feature\n",
    "* **data and target:** data and classes"
   ]
  },
  {
   "cell_type": "code",
   "execution_count": 4,
   "id": "5cf7b97f",
   "metadata": {
    "execution": {
     "iopub.execute_input": "2022-09-04T16:39:10.750380Z",
     "iopub.status.busy": "2022-09-04T16:39:10.749990Z",
     "iopub.status.idle": "2022-09-04T16:39:10.756297Z",
     "shell.execute_reply": "2022-09-04T16:39:10.755138Z"
    },
    "papermill": {
     "duration": 0.017951,
     "end_time": "2022-09-04T16:39:10.759209",
     "exception": false,
     "start_time": "2022-09-04T16:39:10.741258",
     "status": "completed"
    },
    "tags": []
   },
   "outputs": [
    {
     "name": "stdout",
     "output_type": "stream",
     "text": [
      "['setosa' 'versicolor' 'virginica'] \n",
      "\n",
      "['sepal length (cm)', 'sepal width (cm)', 'petal length (cm)', 'petal width (cm)'] \n",
      "\n",
      ".. _iris_dataset:\n",
      "\n",
      "Iris plants dataset\n",
      "--------------------\n",
      "\n",
      "**Data Set Characteristics:**\n",
      "\n",
      "    :Number of Instances: 150 (50 in each of three classes)\n",
      "    :Number of Attributes: 4 numeric, predictive attributes and the class\n",
      "    :Attribute Information:\n",
      "        - sepal length in cm\n",
      "        - sepal width in cm\n",
      "        - petal length in cm\n",
      "        - petal width in cm\n",
      "        - class:\n",
      "                - Iris-Setosa\n",
      "                - Iris-Versicolour\n",
      "                - Iris-Virginica\n",
      "                \n",
      "    :Summary Statistics:\n",
      "\n",
      "    ============== ==== ==== ======= ===== ====================\n",
      "                    Min  Max   Mean    SD   Class Correlation\n",
      "    ============== ==== ==== ======= ===== ====================\n",
      "    sepal length:   4.3  7.9   5.84   0.83    0.7826\n",
      "    sepal width:    2.0  4.4   3.05   0.43   -0.4194\n",
      "    petal length:   1.0  6.9   3.76   1.76    0.9490  (high!)\n",
      "    petal width:    0.1  2.5   1.20   0.76    0.9565  (high!)\n",
      "    ============== ==== ==== ======= ===== ====================\n",
      "\n",
      "    :Missing Attribute Values: None\n",
      "    :Class Distribution: 33.3% for each of 3 classes.\n",
      "    :Creator: R.A. Fisher\n",
      "    :Donor: Michael Marshall (MARSHALL%PLU@io.arc.nasa.gov)\n",
      "    :Date: July, 1988\n",
      "\n",
      "The famous Iris database, first used by Sir R.A. Fisher. The dataset is taken\n",
      "from Fisher's paper. Note that it's the same as in R, but not as in the UCI\n",
      "Machine Learning Repository, which has two wrong data points.\n",
      "\n",
      "This is perhaps the best known database to be found in the\n",
      "pattern recognition literature.  Fisher's paper is a classic in the field and\n",
      "is referenced frequently to this day.  (See Duda & Hart, for example.)  The\n",
      "data set contains 3 classes of 50 instances each, where each class refers to a\n",
      "type of iris plant.  One class is linearly separable from the other 2; the\n",
      "latter are NOT linearly separable from each other.\n",
      "\n",
      ".. topic:: References\n",
      "\n",
      "   - Fisher, R.A. \"The use of multiple measurements in taxonomic problems\"\n",
      "     Annual Eugenics, 7, Part II, 179-188 (1936); also in \"Contributions to\n",
      "     Mathematical Statistics\" (John Wiley, NY, 1950).\n",
      "   - Duda, R.O., & Hart, P.E. (1973) Pattern Classification and Scene Analysis.\n",
      "     (Q327.D83) John Wiley & Sons.  ISBN 0-471-22361-1.  See page 218.\n",
      "   - Dasarathy, B.V. (1980) \"Nosing Around the Neighborhood: A New System\n",
      "     Structure and Classification Rule for Recognition in Partially Exposed\n",
      "     Environments\".  IEEE Transactions on Pattern Analysis and Machine\n",
      "     Intelligence, Vol. PAMI-2, No. 1, 67-71.\n",
      "   - Gates, G.W. (1972) \"The Reduced Nearest Neighbor Rule\".  IEEE Transactions\n",
      "     on Information Theory, May 1972, 431-433.\n",
      "   - See also: 1988 MLC Proceedings, 54-64.  Cheeseman et al\"s AUTOCLASS II\n",
      "     conceptual clustering system finds 3 classes in the data.\n",
      "   - Many, many more ... \n",
      "\n"
     ]
    }
   ],
   "source": [
    "print(dataset.target_names, \"\\n\")\n",
    "print(dataset.feature_names, \"\\n\")\n",
    "print(dataset.DESCR, \"\\n\")"
   ]
  },
  {
   "cell_type": "code",
   "execution_count": 5,
   "id": "f64e9ee4",
   "metadata": {
    "execution": {
     "iopub.execute_input": "2022-09-04T16:39:10.776637Z",
     "iopub.status.busy": "2022-09-04T16:39:10.776197Z",
     "iopub.status.idle": "2022-09-04T16:39:10.894408Z",
     "shell.execute_reply": "2022-09-04T16:39:10.892934Z"
    },
    "papermill": {
     "duration": 0.129638,
     "end_time": "2022-09-04T16:39:10.896620",
     "exception": true,
     "start_time": "2022-09-04T16:39:10.766982",
     "status": "failed"
    },
    "tags": []
   },
   "outputs": [
    {
     "ename": "NameError",
     "evalue": "name 'df' is not defined",
     "output_type": "error",
     "traceback": [
      "\u001b[0;31m---------------------------------------------------------------------------\u001b[0m",
      "\u001b[0;31mNameError\u001b[0m                                 Traceback (most recent call last)",
      "\u001b[0;32m/tmp/ipykernel_20/964094849.py\u001b[0m in \u001b[0;36m<module>\u001b[0;34m\u001b[0m\n\u001b[0;32m----> 1\u001b[0;31m \u001b[0mdf\u001b[0m\u001b[0;34m.\u001b[0m\u001b[0mhead\u001b[0m\u001b[0;34m(\u001b[0m\u001b[0;34m)\u001b[0m\u001b[0;34m\u001b[0m\u001b[0;34m\u001b[0m\u001b[0m\n\u001b[0m",
      "\u001b[0;31mNameError\u001b[0m: name 'df' is not defined"
     ]
    }
   ],
   "source": [
    "df.head()"
   ]
  },
  {
   "cell_type": "code",
   "execution_count": null,
   "id": "23781ee4",
   "metadata": {
    "execution": {
     "iopub.execute_input": "2022-09-04T16:36:49.757518Z",
     "iopub.status.busy": "2022-09-04T16:36:49.755291Z",
     "iopub.status.idle": "2022-09-04T16:36:49.764849Z",
     "shell.execute_reply": "2022-09-04T16:36:49.763223Z",
     "shell.execute_reply.started": "2022-09-04T16:36:49.757469Z"
    },
    "papermill": {
     "duration": null,
     "end_time": null,
     "exception": null,
     "start_time": null,
     "status": "pending"
    },
    "tags": []
   },
   "outputs": [],
   "source": [
    "#convert in dataframe\n",
    "df = pd.DataFrame(dataset.data, columns = dataset.feature_names)\n",
    "df['target'] = pd.Series(dataset.target)"
   ]
  },
  {
   "cell_type": "code",
   "execution_count": null,
   "id": "9d1956a0",
   "metadata": {
    "execution": {
     "iopub.execute_input": "2022-09-04T16:36:49.773723Z",
     "iopub.status.busy": "2022-09-04T16:36:49.772508Z",
     "iopub.status.idle": "2022-09-04T16:36:49.794070Z",
     "shell.execute_reply": "2022-09-04T16:36:49.791422Z",
     "shell.execute_reply.started": "2022-09-04T16:36:49.773625Z"
    },
    "papermill": {
     "duration": null,
     "end_time": null,
     "exception": null,
     "start_time": null,
     "status": "pending"
    },
    "tags": []
   },
   "outputs": [],
   "source": [
    "df.head()"
   ]
  },
  {
   "cell_type": "code",
   "execution_count": null,
   "id": "9afc56ea",
   "metadata": {
    "execution": {
     "iopub.execute_input": "2022-09-04T16:36:49.796608Z",
     "iopub.status.busy": "2022-09-04T16:36:49.796249Z",
     "iopub.status.idle": "2022-09-04T16:36:49.805422Z",
     "shell.execute_reply": "2022-09-04T16:36:49.803352Z",
     "shell.execute_reply.started": "2022-09-04T16:36:49.796576Z"
    },
    "papermill": {
     "duration": null,
     "end_time": null,
     "exception": null,
     "start_time": null,
     "status": "pending"
    },
    "tags": []
   },
   "outputs": [],
   "source": [
    "df['target'] = df['target'].replace({ 0: \"setosa\", 1: \"versicolor\", 2: \"virginica\"})"
   ]
  },
  {
   "cell_type": "code",
   "execution_count": null,
   "id": "d237b509",
   "metadata": {
    "execution": {
     "iopub.execute_input": "2022-09-04T16:36:49.809802Z",
     "iopub.status.busy": "2022-09-04T16:36:49.808206Z",
     "iopub.status.idle": "2022-09-04T16:36:49.819124Z",
     "shell.execute_reply": "2022-09-04T16:36:49.817367Z",
     "shell.execute_reply.started": "2022-09-04T16:36:49.809750Z"
    },
    "papermill": {
     "duration": null,
     "end_time": null,
     "exception": null,
     "start_time": null,
     "status": "pending"
    },
    "tags": []
   },
   "outputs": [],
   "source": [
    "df.columns"
   ]
  },
  {
   "cell_type": "code",
   "execution_count": null,
   "id": "e10b4ecc",
   "metadata": {
    "execution": {
     "iopub.execute_input": "2022-09-04T16:36:49.822665Z",
     "iopub.status.busy": "2022-09-04T16:36:49.821207Z",
     "iopub.status.idle": "2022-09-04T16:36:49.829728Z",
     "shell.execute_reply": "2022-09-04T16:36:49.828345Z",
     "shell.execute_reply.started": "2022-09-04T16:36:49.822611Z"
    },
    "papermill": {
     "duration": null,
     "end_time": null,
     "exception": null,
     "start_time": null,
     "status": "pending"
    },
    "tags": []
   },
   "outputs": [],
   "source": [
    "df.columns = ['sepal_length', 'sepal_width', 'petal_length', 'petal_width', 'target']"
   ]
  },
  {
   "cell_type": "code",
   "execution_count": null,
   "id": "16334bfb",
   "metadata": {
    "execution": {
     "iopub.execute_input": "2022-09-04T16:36:49.838360Z",
     "iopub.status.busy": "2022-09-04T16:36:49.836860Z",
     "iopub.status.idle": "2022-09-04T16:36:49.845987Z",
     "shell.execute_reply": "2022-09-04T16:36:49.844715Z",
     "shell.execute_reply.started": "2022-09-04T16:36:49.838298Z"
    },
    "papermill": {
     "duration": null,
     "end_time": null,
     "exception": null,
     "start_time": null,
     "status": "pending"
    },
    "tags": []
   },
   "outputs": [],
   "source": [
    "df.shape"
   ]
  },
  {
   "cell_type": "code",
   "execution_count": null,
   "id": "85dc8f4a",
   "metadata": {
    "execution": {
     "iopub.execute_input": "2022-09-04T16:36:49.861953Z",
     "iopub.status.busy": "2022-09-04T16:36:49.860259Z",
     "iopub.status.idle": "2022-09-04T16:36:49.874924Z",
     "shell.execute_reply": "2022-09-04T16:36:49.873583Z",
     "shell.execute_reply.started": "2022-09-04T16:36:49.861911Z"
    },
    "papermill": {
     "duration": null,
     "end_time": null,
     "exception": null,
     "start_time": null,
     "status": "pending"
    },
    "tags": []
   },
   "outputs": [],
   "source": [
    "df.info()"
   ]
  },
  {
   "cell_type": "code",
   "execution_count": null,
   "id": "65681926",
   "metadata": {
    "execution": {
     "iopub.execute_input": "2022-09-04T16:36:49.888510Z",
     "iopub.status.busy": "2022-09-04T16:36:49.887230Z",
     "iopub.status.idle": "2022-09-04T16:36:49.917208Z",
     "shell.execute_reply": "2022-09-04T16:36:49.915607Z",
     "shell.execute_reply.started": "2022-09-04T16:36:49.888447Z"
    },
    "papermill": {
     "duration": null,
     "end_time": null,
     "exception": null,
     "start_time": null,
     "status": "pending"
    },
    "tags": []
   },
   "outputs": [],
   "source": [
    "df.describe()"
   ]
  },
  {
   "cell_type": "markdown",
   "id": "bc3af0d9",
   "metadata": {
    "papermill": {
     "duration": null,
     "end_time": null,
     "exception": null,
     "start_time": null,
     "status": "pending"
    },
    "tags": []
   },
   "source": [
    "**KNN Model training**"
   ]
  },
  {
   "cell_type": "code",
   "execution_count": null,
   "id": "4f57d75b",
   "metadata": {
    "execution": {
     "iopub.execute_input": "2022-09-04T16:36:49.920563Z",
     "iopub.status.busy": "2022-09-04T16:36:49.920091Z",
     "iopub.status.idle": "2022-09-04T16:36:49.927810Z",
     "shell.execute_reply": "2022-09-04T16:36:49.926014Z",
     "shell.execute_reply.started": "2022-09-04T16:36:49.920526Z"
    },
    "papermill": {
     "duration": null,
     "end_time": null,
     "exception": null,
     "start_time": null,
     "status": "pending"
    },
    "tags": []
   },
   "outputs": [],
   "source": [
    "X = df[['sepal_length', 'sepal_width', 'petal_length', 'petal_width']]\n",
    "y = df['target']"
   ]
  },
  {
   "cell_type": "code",
   "execution_count": null,
   "id": "bf6e842c",
   "metadata": {
    "execution": {
     "iopub.execute_input": "2022-09-04T16:36:49.933900Z",
     "iopub.status.busy": "2022-09-04T16:36:49.933297Z",
     "iopub.status.idle": "2022-09-04T16:36:49.942958Z",
     "shell.execute_reply": "2022-09-04T16:36:49.941547Z",
     "shell.execute_reply.started": "2022-09-04T16:36:49.933852Z"
    },
    "papermill": {
     "duration": null,
     "end_time": null,
     "exception": null,
     "start_time": null,
     "status": "pending"
    },
    "tags": []
   },
   "outputs": [],
   "source": [
    "y.shape"
   ]
  },
  {
   "cell_type": "code",
   "execution_count": null,
   "id": "0b1052e7",
   "metadata": {
    "execution": {
     "iopub.execute_input": "2022-09-04T16:36:49.947308Z",
     "iopub.status.busy": "2022-09-04T16:36:49.946103Z",
     "iopub.status.idle": "2022-09-04T16:36:49.956015Z",
     "shell.execute_reply": "2022-09-04T16:36:49.954623Z",
     "shell.execute_reply.started": "2022-09-04T16:36:49.947257Z"
    },
    "papermill": {
     "duration": null,
     "end_time": null,
     "exception": null,
     "start_time": null,
     "status": "pending"
    },
    "tags": []
   },
   "outputs": [],
   "source": [
    "X.shape\n"
   ]
  },
  {
   "cell_type": "code",
   "execution_count": null,
   "id": "20fc7a07",
   "metadata": {
    "execution": {
     "iopub.execute_input": "2022-09-04T16:36:49.965826Z",
     "iopub.status.busy": "2022-09-04T16:36:49.964544Z",
     "iopub.status.idle": "2022-09-04T16:36:49.973807Z",
     "shell.execute_reply": "2022-09-04T16:36:49.972321Z",
     "shell.execute_reply.started": "2022-09-04T16:36:49.965775Z"
    },
    "papermill": {
     "duration": null,
     "end_time": null,
     "exception": null,
     "start_time": null,
     "status": "pending"
    },
    "tags": []
   },
   "outputs": [],
   "source": [
    "#X: 75% for training\n",
    "#y: 25% for testing\n",
    "\n",
    "X_train, X_test, y_train, y_test = train_test_split(X, y, random_state = 0)"
   ]
  },
  {
   "cell_type": "code",
   "execution_count": null,
   "id": "64df209c",
   "metadata": {
    "execution": {
     "iopub.execute_input": "2022-09-04T16:36:50.021231Z",
     "iopub.status.busy": "2022-09-04T16:36:50.020331Z",
     "iopub.status.idle": "2022-09-04T16:36:50.028277Z",
     "shell.execute_reply": "2022-09-04T16:36:50.027114Z",
     "shell.execute_reply.started": "2022-09-04T16:36:50.021170Z"
    },
    "papermill": {
     "duration": null,
     "end_time": null,
     "exception": null,
     "start_time": null,
     "status": "pending"
    },
    "tags": []
   },
   "outputs": [],
   "source": [
    "print(X_train.shape, y_train.shape, \"\\n\", X_test.shape, y_test.shape)"
   ]
  },
  {
   "cell_type": "code",
   "execution_count": null,
   "id": "22c4f627",
   "metadata": {
    "execution": {
     "iopub.execute_input": "2022-09-04T16:36:50.038062Z",
     "iopub.status.busy": "2022-09-04T16:36:50.037293Z",
     "iopub.status.idle": "2022-09-04T16:36:50.055665Z",
     "shell.execute_reply": "2022-09-04T16:36:50.054582Z",
     "shell.execute_reply.started": "2022-09-04T16:36:50.038022Z"
    },
    "papermill": {
     "duration": null,
     "end_time": null,
     "exception": null,
     "start_time": null,
     "status": "pending"
    },
    "tags": []
   },
   "outputs": [],
   "source": [
    "X.head()"
   ]
  },
  {
   "cell_type": "code",
   "execution_count": null,
   "id": "94bcc0ea",
   "metadata": {
    "execution": {
     "iopub.execute_input": "2022-09-04T16:37:38.513232Z",
     "iopub.status.busy": "2022-09-04T16:37:38.512781Z",
     "iopub.status.idle": "2022-09-04T16:37:38.522894Z",
     "shell.execute_reply": "2022-09-04T16:37:38.521351Z",
     "shell.execute_reply.started": "2022-09-04T16:37:38.513196Z"
    },
    "papermill": {
     "duration": null,
     "end_time": null,
     "exception": null,
     "start_time": null,
     "status": "pending"
    },
    "tags": []
   },
   "outputs": [],
   "source": [
    "y.head()"
   ]
  },
  {
   "cell_type": "markdown",
   "id": "a91389f2",
   "metadata": {
    "papermill": {
     "duration": null,
     "end_time": null,
     "exception": null,
     "start_time": null,
     "status": "pending"
    },
    "tags": []
   },
   "source": [
    "Checking if the dataset classes are discriminating between them"
   ]
  },
  {
   "cell_type": "code",
   "execution_count": null,
   "id": "e701c882",
   "metadata": {
    "execution": {
     "iopub.execute_input": "2022-09-04T16:36:50.058421Z",
     "iopub.status.busy": "2022-09-04T16:36:50.057422Z",
     "iopub.status.idle": "2022-09-04T16:36:55.231486Z",
     "shell.execute_reply": "2022-09-04T16:36:55.229959Z",
     "shell.execute_reply.started": "2022-09-04T16:36:50.058381Z"
    },
    "papermill": {
     "duration": null,
     "end_time": null,
     "exception": null,
     "start_time": null,
     "status": "pending"
    },
    "tags": []
   },
   "outputs": [],
   "source": [
    "sns.pairplot(df, hue = \"target\", palette=\"husl\", markers=[\"o\", \"s\", \"D\"])"
   ]
  },
  {
   "cell_type": "markdown",
   "id": "e69a14e6",
   "metadata": {
    "papermill": {
     "duration": null,
     "end_time": null,
     "exception": null,
     "start_time": null,
     "status": "pending"
    },
    "tags": []
   },
   "source": [
    "**KNN**"
   ]
  },
  {
   "cell_type": "code",
   "execution_count": null,
   "id": "0503ff1a",
   "metadata": {
    "execution": {
     "iopub.execute_input": "2022-09-04T16:36:55.233678Z",
     "iopub.status.busy": "2022-09-04T16:36:55.233280Z",
     "iopub.status.idle": "2022-09-04T16:36:55.246801Z",
     "shell.execute_reply": "2022-09-04T16:36:55.245230Z",
     "shell.execute_reply.started": "2022-09-04T16:36:55.233643Z"
    },
    "papermill": {
     "duration": null,
     "end_time": null,
     "exception": null,
     "start_time": null,
     "status": "pending"
    },
    "tags": []
   },
   "outputs": [],
   "source": [
    "knn = KNeighborsClassifier(n_neighbors = 1)\n",
    "knn.fit(X_train, y_train)"
   ]
  },
  {
   "cell_type": "code",
   "execution_count": null,
   "id": "e8986d02",
   "metadata": {
    "execution": {
     "iopub.execute_input": "2022-09-04T16:36:55.251040Z",
     "iopub.status.busy": "2022-09-04T16:36:55.249810Z",
     "iopub.status.idle": "2022-09-04T16:36:55.259381Z",
     "shell.execute_reply": "2022-09-04T16:36:55.258481Z",
     "shell.execute_reply.started": "2022-09-04T16:36:55.250973Z"
    },
    "papermill": {
     "duration": null,
     "end_time": null,
     "exception": null,
     "start_time": null,
     "status": "pending"
    },
    "tags": []
   },
   "outputs": [],
   "source": [
    "#predictions\n",
    "X_new = np.array([[5, 2.9, 1, 0.2]])\n",
    "print(\"X_new.shape: {}\".format(X_new.shape))"
   ]
  },
  {
   "cell_type": "code",
   "execution_count": null,
   "id": "5de15a3e",
   "metadata": {
    "execution": {
     "iopub.execute_input": "2022-09-04T16:36:55.261724Z",
     "iopub.status.busy": "2022-09-04T16:36:55.260546Z",
     "iopub.status.idle": "2022-09-04T16:36:55.274045Z",
     "shell.execute_reply": "2022-09-04T16:36:55.272540Z",
     "shell.execute_reply.started": "2022-09-04T16:36:55.261687Z"
    },
    "papermill": {
     "duration": null,
     "end_time": null,
     "exception": null,
     "start_time": null,
     "status": "pending"
    },
    "tags": []
   },
   "outputs": [],
   "source": [
    "pred = knn.predict(X_new)\n",
    "print(\"Prediction: {}\".format(pred))"
   ]
  },
  {
   "cell_type": "markdown",
   "id": "4888549e",
   "metadata": {
    "papermill": {
     "duration": null,
     "end_time": null,
     "exception": null,
     "start_time": null,
     "status": "pending"
    },
    "tags": []
   },
   "source": [
    "**Evaluating model**"
   ]
  },
  {
   "cell_type": "code",
   "execution_count": null,
   "id": "0617e108",
   "metadata": {
    "execution": {
     "iopub.execute_input": "2022-09-04T16:36:55.276351Z",
     "iopub.status.busy": "2022-09-04T16:36:55.275944Z",
     "iopub.status.idle": "2022-09-04T16:36:55.295274Z",
     "shell.execute_reply": "2022-09-04T16:36:55.293543Z",
     "shell.execute_reply.started": "2022-09-04T16:36:55.276319Z"
    },
    "papermill": {
     "duration": null,
     "end_time": null,
     "exception": null,
     "start_time": null,
     "status": "pending"
    },
    "tags": []
   },
   "outputs": [],
   "source": [
    "y_pred = knn.predict(X_test)\n",
    "print(\"Test set predictions: {}\".format(y_pred), \"\\n\")\n",
    "print(\"Test set score: {:.2f}\".format(knn.score(X_test, y_test)))"
   ]
  }
 ],
 "metadata": {
  "kernelspec": {
   "display_name": "Python 3",
   "language": "python",
   "name": "python3"
  },
  "language_info": {
   "codemirror_mode": {
    "name": "ipython",
    "version": 3
   },
   "file_extension": ".py",
   "mimetype": "text/x-python",
   "name": "python",
   "nbconvert_exporter": "python",
   "pygments_lexer": "ipython3",
   "version": "3.7.12"
  },
  "papermill": {
   "default_parameters": {},
   "duration": 12.083286,
   "end_time": "2022-09-04T16:39:11.627107",
   "environment_variables": {},
   "exception": true,
   "input_path": "__notebook__.ipynb",
   "output_path": "__notebook__.ipynb",
   "parameters": {},
   "start_time": "2022-09-04T16:38:59.543821",
   "version": "2.3.4"
  }
 },
 "nbformat": 4,
 "nbformat_minor": 5
}
